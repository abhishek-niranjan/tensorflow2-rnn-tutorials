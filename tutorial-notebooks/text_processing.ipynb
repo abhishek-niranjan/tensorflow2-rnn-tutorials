{
  "nbformat": 4,
  "nbformat_minor": 0,
  "metadata": {
    "colab": {
      "name": "text_processing.ipynb",
      "provenance": [],
      "collapsed_sections": [],
      "toc_visible": true
    },
    "kernelspec": {
      "display_name": "Python 3",
      "language": "python",
      "name": "python3"
    },
    "language_info": {
      "codemirror_mode": {
        "name": "ipython",
        "version": 3
      },
      "file_extension": ".py",
      "mimetype": "text/x-python",
      "name": "python",
      "nbconvert_exporter": "python",
      "pygments_lexer": "ipython3",
      "version": "3.6.8"
    }
  },
  "cells": [
    {
      "cell_type": "markdown",
      "metadata": {
        "id": "TkLuVfPJn7o7",
        "colab_type": "text"
      },
      "source": [
        "#### Contents taken from [tensorflow-tutorial ](https://www.tensorflow.org/tutorials/text/nmt_with_attention )"
      ]
    },
    {
      "cell_type": "code",
      "metadata": {
        "colab_type": "code",
        "id": "tnxXKDjq3jEL",
        "colab": {}
      },
      "source": [
        "import tensorflow as tf\n",
        "\n",
        "import matplotlib.pyplot as plt\n",
        "import matplotlib.ticker as ticker\n",
        "from sklearn.model_selection import train_test_split\n",
        "\n",
        "import unicodedata\n",
        "import re\n",
        "import numpy as np\n",
        "import os\n",
        "import io\n",
        "import time"
      ],
      "execution_count": 4,
      "outputs": []
    },
    {
      "cell_type": "markdown",
      "metadata": {
        "colab_type": "text",
        "id": "wfodePkj3jEa"
      },
      "source": [
        "## Download and process the dataset\n",
        "\n",
        "We'll use a language dataset provided by http://www.manythings.org/anki/. This dataset contains language translation pairs in the format:\n",
        "\n",
        "```\n",
        "May I borrow this book?\t¿Puedo tomar prestado este libro?\n",
        "```\n",
        "\n",
        "There are a variety of languages available, but we'll use the English-Spanish dataset. After downloading the dataset, here are the steps we'll take to prepare the data:\n",
        "\n",
        "1. Add a *start* and *end* token to each sentence.\n",
        "2. Clean the sentences by removing special characters.\n",
        "3. Create a Vocabulary with word index (mapping from word → id) and reverse word index (mapping from id → word).\n",
        "4. Pad each sentence to a maximum length. (Why? we need to fix the maximum length for the inputs to recurrent encoders and recurrent decoders)"
      ]
    },
    {
      "cell_type": "code",
      "metadata": {
        "colab_type": "code",
        "id": "kRVATYOgJs1b",
        "colab": {
          "base_uri": "https://localhost:8080/",
          "height": 51
        },
        "outputId": "d1cbc578-3ccb-4416-b3aa-32b0b6232e48"
      },
      "source": [
        "# Download the file\n",
        "\n",
        "# tf.keras.utils.get_file downloads a file from a URL if it not already in the cache.\n",
        "path_to_zip = tf.keras.utils.get_file(\n",
        "    'spa-eng.zip', origin='http://storage.googleapis.com/download.tensorflow.org/data/spa-eng.zip',\n",
        "    extract=True)\n",
        "\n",
        "path_to_file = os.path.dirname(path_to_zip)+\"/spa-eng/spa.txt\""
      ],
      "execution_count": 11,
      "outputs": [
        {
          "output_type": "stream",
          "text": [
            "Downloading data from http://storage.googleapis.com/download.tensorflow.org/data/spa-eng.zip\n",
            "2646016/2638744 [==============================] - 0s 0us/step\n"
          ],
          "name": "stdout"
        }
      ]
    },
    {
      "cell_type": "code",
      "metadata": {
        "colab_type": "code",
        "id": "rd0jw-eC3jEh",
        "colab": {}
      },
      "source": [
        "# Converts the unicode file to ascii\n",
        "def unicode_to_ascii(s):\n",
        "  return ''.join(c for c in unicodedata.normalize('NFD', s)\n",
        "      if unicodedata.category(c) != 'Mn')\n",
        "\n",
        "\n",
        "def preprocess_sentence(w):\n",
        "  w = unicode_to_ascii(w.lower().strip())\n",
        "\n",
        "  # creating a space between a word and the punctuation following it\n",
        "  # eg: \"he is a boy.\" => \"he is a boy .\"\n",
        "  # Reference:- https://stackoverflow.com/questions/3645931/python-padding-punctuation-with-white-spaces-keeping-punctuation\n",
        "  w = re.sub(r\"([?.!,¿])\", r\" \\1 \", w)\n",
        "  w = re.sub(r'[\" \"]+', \" \", w)\n",
        "\n",
        "  # replacing everything with space except (a-z, A-Z, \".\", \"?\", \"!\", \",\")\n",
        "  w = re.sub(r\"[^a-zA-Z?.!,¿]+\", \" \", w)\n",
        "\n",
        "  w = w.strip()\n",
        "\n",
        "  # adding a start and an end token to the sentence\n",
        "  # so that the model know when to start and stop predicting.\n",
        "  w = '<start> ' + w + ' <end>'\n",
        "  return w"
      ],
      "execution_count": 5,
      "outputs": []
    },
    {
      "cell_type": "code",
      "metadata": {
        "colab_type": "code",
        "id": "opI2GzOt479E",
        "colab": {
          "base_uri": "https://localhost:8080/",
          "height": 51
        },
        "outputId": "a2385dd3-439b-436d-e49d-3bf0492bb295"
      },
      "source": [
        "## Check the preprocessing on example input-output text pair\n",
        "en_sentence = u\"May I borrow this book?\"\n",
        "sp_sentence = u\"¿Puedo tomar prestado este libro?\"\n",
        "print(preprocess_sentence(en_sentence))\n",
        "print(preprocess_sentence(sp_sentence).encode('utf-8'))"
      ],
      "execution_count": 6,
      "outputs": [
        {
          "output_type": "stream",
          "text": [
            "<start> may i borrow this book ? <end>\n",
            "b'<start> \\xc2\\xbf puedo tomar prestado este libro ? <end>'\n"
          ],
          "name": "stdout"
        }
      ]
    },
    {
      "cell_type": "code",
      "metadata": {
        "colab_type": "code",
        "id": "OHn4Dct23jEm",
        "colab": {}
      },
      "source": [
        "# 1. Remove the accents\n",
        "# 2. Clean the sentences\n",
        "# 3. Return word pairs in the format: [ENGLISH, SPANISH]\n",
        "\n",
        "# The file contains text pairs as - english_sentence \\t(separator) spanish_sentence\n",
        "\n",
        "def create_dataset(path, num_examples):\n",
        "  # path : path to spa-eng.txt file\n",
        "  # num_examples : Limit the total number of training example for faster training (set num_examples = len(lines) to use full data)\n",
        "  lines = io.open(path, encoding='UTF-8').read().strip().split('\\n')\n",
        "  word_pairs = [[preprocess_sentence(w) for w in l.split('\\t')]  for l in lines[:num_examples]]\n",
        "\n",
        "  return zip(*word_pairs)"
      ],
      "execution_count": 7,
      "outputs": []
    },
    {
      "cell_type": "code",
      "metadata": {
        "colab_type": "code",
        "id": "cTbSbBz55QtF",
        "colab": {
          "base_uri": "https://localhost:8080/",
          "height": 71
        },
        "outputId": "b0abba09-d2f6-45d5-9ad6-8ebe8710e135"
      },
      "source": [
        "en, sp = create_dataset(path_to_file, None)\n",
        "print(en[-1])\n",
        "print(sp[-1])"
      ],
      "execution_count": 12,
      "outputs": [
        {
          "output_type": "stream",
          "text": [
            "<start> if you want to sound like a native speaker , you must be willing to practice saying the same sentence over and over in the same way that banjo players practice the same phrase over and over until they can play it correctly and at the desired tempo . <end>\n",
            "<start> si quieres sonar como un hablante nativo , debes estar dispuesto a practicar diciendo la misma frase una y otra vez de la misma manera en que un musico de banjo practica el mismo fraseo una y otra vez hasta que lo puedan tocar correctamente y en el tiempo esperado . <end>\n"
          ],
          "name": "stdout"
        }
      ]
    },
    {
      "cell_type": "code",
      "metadata": {
        "colab_type": "code",
        "id": "bIOn8RCNDJXG",
        "colab": {}
      },
      "source": [
        "# We'll create the vocabulary now. Thankfully tf.keras.preprocessing provides all the tools which are necessary for this. \n",
        "\n",
        "\n",
        "def tokenize(lang):\n",
        "  # lang = list of sentences in a language\n",
        "  \n",
        "  # print(len(lang), \"example sentence: {}\".format(lang[0]))\n",
        "  lang_tokenizer = tf.keras.preprocessing.text.Tokenizer(filters='', oov_token='<OOV>')\n",
        "  lang_tokenizer.fit_on_texts(lang)\n",
        "\n",
        "  ## tf.keras.preprocessing.text.Tokenizer.texts_to_sequences converts string (w1, w2, w3, ......, wn) \n",
        "  ## to a list of correspoding integer ids of words (id_w1, id_w2, id_w3, ...., id_wn)\n",
        "  tensor = lang_tokenizer.texts_to_sequences(lang) \n",
        "\n",
        "  ## tf.keras.preprocessing.sequence.pad_sequences takes argument a list of integer id sequences \n",
        "  ## and pads the sequences to match the longest sequences in the given input\n",
        "  tensor = tf.keras.preprocessing.sequence.pad_sequences(tensor, padding='post')\n",
        "\n",
        "  return tensor, lang_tokenizer"
      ],
      "execution_count": 17,
      "outputs": []
    },
    {
      "cell_type": "code",
      "metadata": {
        "id": "Tt0mwN2jzgMR",
        "colab_type": "code",
        "colab": {
          "base_uri": "https://localhost:8080/",
          "height": 136
        },
        "outputId": "158d248d-6251-42c3-e701-bb6311f65e3e"
      },
      "source": [
        "## Test your tokenize function\n",
        "text = [\"what are you doing ?\", \n",
        "        \"where have you been ?\",\n",
        "        \"I love the mother nature .\",\n",
        "        \"Wow !\"]\n",
        "\n",
        "sample_tensor, sample_tokenizer = tokenize(text)\n",
        "print(\"text sentence: {}\".format(text[0]))\n",
        "print(\"integer_ids for the same sequence: {}\".format(sample_tensor[0]))\n",
        "print(\"whole input tensor is : \\n\", sample_tensor)"
      ],
      "execution_count": 20,
      "outputs": [
        {
          "output_type": "stream",
          "text": [
            "text sentence: what are you doing ?\n",
            "integer_ids for the same sequence: [4 5 2 6 3 0]\n",
            "whole input tensor is : \n",
            " [[ 4  5  2  6  3  0]\n",
            " [ 7  8  2  9  3  0]\n",
            " [10 11 12 13 14 15]\n",
            " [16 17  0  0  0  0]]\n"
          ],
          "name": "stdout"
        }
      ]
    },
    {
      "cell_type": "markdown",
      "metadata": {
        "id": "C8Dom4RK0n0i",
        "colab_type": "text"
      },
      "source": [
        "Since the longest string in our list was \"*I love the mother nature .*\" which had 6 tokens, the tokenize function has padded all the sequence to be of length 6. In the above example, since the len(text[0]) was 5, there is a trailing '0' in the corresponding integer_ids sequence. Let's see the vocabulary"
      ]
    },
    {
      "cell_type": "code",
      "metadata": {
        "id": "Ocev1GPu1udd",
        "colab_type": "code",
        "colab": {
          "base_uri": "https://localhost:8080/",
          "height": 241
        },
        "outputId": "7f403e96-acb2-4a7c-cbab-b33cca29b7dd"
      },
      "source": [
        "sample_tokenizer.get_config()"
      ],
      "execution_count": 19,
      "outputs": [
        {
          "output_type": "execute_result",
          "data": {
            "text/plain": [
              "{'char_level': False,\n",
              " 'document_count': 4,\n",
              " 'filters': '',\n",
              " 'index_docs': '{\"4\": 1, \"6\": 1, \"5\": 1, \"2\": 2, \"3\": 2, \"8\": 1, \"9\": 1, \"7\": 1, \"10\": 1, \"13\": 1, \"14\": 1, \"12\": 1, \"11\": 1, \"15\": 1, \"16\": 1, \"17\": 1}',\n",
              " 'index_word': '{\"1\": \"<OOV>\", \"2\": \"you\", \"3\": \"?\", \"4\": \"what\", \"5\": \"are\", \"6\": \"doing\", \"7\": \"where\", \"8\": \"have\", \"9\": \"been\", \"10\": \"i\", \"11\": \"love\", \"12\": \"the\", \"13\": \"mother\", \"14\": \"nature\", \"15\": \".\", \"16\": \"wow\", \"17\": \"!\"}',\n",
              " 'lower': True,\n",
              " 'num_words': None,\n",
              " 'oov_token': '<OOV>',\n",
              " 'split': ' ',\n",
              " 'word_counts': '{\"what\": 1, \"are\": 1, \"you\": 2, \"doing\": 1, \"?\": 2, \"where\": 1, \"have\": 1, \"been\": 1, \"i\": 1, \"love\": 1, \"the\": 1, \"mother\": 1, \"nature\": 1, \".\": 1, \"wow\": 1, \"!\": 1}',\n",
              " 'word_docs': '{\"what\": 1, \"doing\": 1, \"are\": 1, \"you\": 2, \"?\": 2, \"have\": 1, \"been\": 1, \"where\": 1, \"i\": 1, \"mother\": 1, \"nature\": 1, \"the\": 1, \"love\": 1, \".\": 1, \"wow\": 1, \"!\": 1}',\n",
              " 'word_index': '{\"<OOV>\": 1, \"you\": 2, \"?\": 3, \"what\": 4, \"are\": 5, \"doing\": 6, \"where\": 7, \"have\": 8, \"been\": 9, \"i\": 10, \"love\": 11, \"the\": 12, \"mother\": 13, \"nature\": 14, \".\": 15, \"wow\": 16, \"!\": 17}'}"
            ]
          },
          "metadata": {
            "tags": []
          },
          "execution_count": 19
        }
      ]
    },
    {
      "cell_type": "markdown",
      "metadata": {
        "id": "AlriG-g717G_",
        "colab_type": "text"
      },
      "source": [
        "The dictionary *word_index* describes the token with corresponding *integer_id* assigned to it. "
      ]
    },
    {
      "cell_type": "code",
      "metadata": {
        "colab_type": "code",
        "id": "eAY9k49G3jE_",
        "colab": {}
      },
      "source": [
        "def load_dataset(path, num_examples=None):\n",
        "  # creating cleaned input, output pairs\n",
        "  targ_lang, inp_lang = create_dataset(path, num_examples)\n",
        "\n",
        "  input_tensor, inp_lang_tokenizer = tokenize(inp_lang)\n",
        "  target_tensor, targ_lang_tokenizer = tokenize(targ_lang)\n",
        "\n",
        "  return input_tensor, target_tensor, inp_lang_tokenizer, targ_lang_tokenizer"
      ],
      "execution_count": 21,
      "outputs": []
    },
    {
      "cell_type": "markdown",
      "metadata": {
        "colab_type": "text",
        "id": "GOi42V79Ydlr"
      },
      "source": [
        "## Now let's prepare the input and output tensors on our data\n",
        "\n",
        "### Limit the size of the dataset to experiment faster (optional)\n",
        "\n",
        "Training on the complete dataset of >100,000 sentences will take a long time. To train faster, we can limit the size of the dataset to 30,000 sentences (of course, translation quality degrades with less data):"
      ]
    },
    {
      "cell_type": "code",
      "metadata": {
        "colab_type": "code",
        "id": "cnxC7q-j3jFD",
        "colab": {
          "base_uri": "https://localhost:8080/",
          "height": 34
        },
        "outputId": "65dbce5a-4b0b-4b57-c08f-dc8acdc19e4e"
      },
      "source": [
        "# Try experimenting with the size of that dataset\n",
        "num_examples = 30000\n",
        "input_tensor, target_tensor, inp_lang, targ_lang = load_dataset(path_to_file, num_examples)\n",
        "\n",
        "# Calculate max_length of the target tensors\n",
        "max_length_targ, max_length_inp = target_tensor.shape[1], input_tensor.shape[1]\n",
        "max_length_targ, max_length_inp"
      ],
      "execution_count": 22,
      "outputs": [
        {
          "output_type": "execute_result",
          "data": {
            "text/plain": [
              "(11, 16)"
            ]
          },
          "metadata": {
            "tags": []
          },
          "execution_count": 22
        }
      ]
    },
    {
      "cell_type": "code",
      "metadata": {
        "colab_type": "code",
        "id": "lJPmLZGMeD5q",
        "colab": {}
      },
      "source": [
        "def convert(lang, tensor):\n",
        "  for t in tensor:\n",
        "    if t!=0:\n",
        "      print (\"%d ----> %s\" % (t, lang.index_word[t]))"
      ],
      "execution_count": 23,
      "outputs": []
    },
    {
      "cell_type": "code",
      "metadata": {
        "colab_type": "code",
        "id": "4QILQkOs3jFG",
        "colab": {
          "base_uri": "https://localhost:8080/",
          "height": 34
        },
        "outputId": "52484875-641d-47bd-8a11-babc71343fd4"
      },
      "source": [
        "# Creating training and validation sets using an 80-20 split\n",
        "input_tensor_train, input_tensor_val, target_tensor_train, target_tensor_val = train_test_split(input_tensor, target_tensor, test_size=0.2)\n",
        "\n",
        "# Show length\n",
        "print(len(input_tensor_train), len(target_tensor_train), len(input_tensor_val), len(target_tensor_val))"
      ],
      "execution_count": 25,
      "outputs": [
        {
          "output_type": "stream",
          "text": [
            "24000 24000 6000 6000\n"
          ],
          "name": "stdout"
        }
      ]
    },
    {
      "cell_type": "code",
      "metadata": {
        "colab_type": "code",
        "id": "VXukARTDd7MT",
        "colab": {
          "base_uri": "https://localhost:8080/",
          "height": 340
        },
        "outputId": "59a275ff-abfc-4c54-c371-eb630bce8e72"
      },
      "source": [
        "print (\"Input Language; index to word mapping\")\n",
        "convert(inp_lang, input_tensor_train[0])\n",
        "print ()\n",
        "print (\"Target Language; index to word mapping\")\n",
        "convert(targ_lang, target_tensor_train[0])"
      ],
      "execution_count": 26,
      "outputs": [
        {
          "output_type": "stream",
          "text": [
            "Input Language; index to word mapping\n",
            "2 ----> <start>\n",
            "5 ----> tom\n",
            "43 ----> tiene\n",
            "49 ----> su\n",
            "1554 ----> propio\n",
            "3374 ----> dormitorio\n",
            "4 ----> .\n",
            "3 ----> <end>\n",
            "\n",
            "Target Language; index to word mapping\n",
            "2 ----> <start>\n",
            "6 ----> tom\n",
            "52 ----> has\n",
            "62 ----> his\n",
            "433 ----> own\n",
            "166 ----> room\n",
            "4 ----> .\n",
            "3 ----> <end>\n"
          ],
          "name": "stdout"
        }
      ]
    },
    {
      "cell_type": "markdown",
      "metadata": {
        "colab_type": "text",
        "id": "rgCLkfv5uO3d"
      },
      "source": [
        "### Create a tf.data dataset\n",
        "\n",
        "We'll use this dataset in our modeling notebooks. *tf.data.Dataset* API supports writing descriptive and efficient input pipelines. Dataset usage follows a common pattern:\n",
        "\n",
        "* Create a source dataset from your input data.\n",
        "* Apply dataset transformations to preprocess the data.\n",
        "* Iterate over the dataset and process the elements."
      ]
    },
    {
      "cell_type": "code",
      "metadata": {
        "colab_type": "code",
        "id": "TqHsArVZ3jFS",
        "colab": {}
      },
      "source": [
        "BUFFER_SIZE = len(input_tensor_train)\n",
        "BATCH_SIZE = 64\n",
        "\n",
        "# One epoch = goes through whole data once\n",
        "steps_per_epoch = len(input_tensor_train)//BATCH_SIZE \n",
        "\n",
        "# Word embedding dimensions\n",
        "embedding_dim = 256\n",
        "\n",
        "# units in our recurrent cells\n",
        "units = 1024\n",
        "\n",
        "# Total number of tokens in input and target vocabulary\n",
        "vocab_inp_size = len(inp_lang.word_index)+1\n",
        "vocab_tar_size = len(targ_lang.word_index)+1\n",
        "\n",
        "dataset = tf.data.Dataset.from_tensor_slices((input_tensor_train, target_tensor_train)).shuffle(BUFFER_SIZE)\n",
        "dataset = dataset.batch(BATCH_SIZE, drop_remainder=True)"
      ],
      "execution_count": 29,
      "outputs": []
    },
    {
      "cell_type": "code",
      "metadata": {
        "colab_type": "code",
        "id": "qc6-NK1GtWQt",
        "colab": {
          "base_uri": "https://localhost:8080/",
          "height": 34
        },
        "outputId": "9768416c-cefc-4eae-de35-44d9617966cc"
      },
      "source": [
        "example_input_batch, example_target_batch = next(iter(dataset))\n",
        "example_input_batch.shape, example_target_batch.shape"
      ],
      "execution_count": 30,
      "outputs": [
        {
          "output_type": "execute_result",
          "data": {
            "text/plain": [
              "(TensorShape([64, 16]), TensorShape([64, 11]))"
            ]
          },
          "metadata": {
            "tags": []
          },
          "execution_count": 30
        }
      ]
    }
  ]
}